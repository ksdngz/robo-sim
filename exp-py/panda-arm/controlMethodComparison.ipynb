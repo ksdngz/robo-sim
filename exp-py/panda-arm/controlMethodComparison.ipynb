{
 "cells": [
  {
   "cell_type": "markdown",
   "metadata": {},
   "source": [
    "## 各軸独立制御\n",
    "「モーションコントロール」(島田明 著)の各軸独立制御(位置制御)を参考に、目標関節角度$\\bm{q}_r$を参照としたときのPD制御則は下記となる。\n",
    "$$\n",
    "\\bm{u} = K_p\\bm{e}+K_d\\bm{\\dot{e}} \\tag{1}\\\\ \n",
    "\\bm{e} = \\bm{q}_r-\\bm{q}\n",
    "$$\n",
    "$K_p$, $K_d$は比例・微分ゲインである。重力補償を含める場合、重力補償トルク$\\bm{\\tau}_g$を含めると制御則は下記となる。\n",
    "$$\n",
    "\\bm{u}_g = K_p\\bm{e}+K_d\\bm{\\dot{e}} + \\bm{\\tau}_g(\\bm{q}) \\tag{2}\n",
    "$$\n",
    "#### 実装メモ\n",
    "* $\\bm{q}_r$は`rtb`の`IK_LM()`を用いた数値解を使用した。内部ではLM法を使用している。\n",
    "* $\\bm{\\tau}_g(\\bm{q})$も`rtb`の`gravload()`を用いて算出した。\n",
    "* $\\bm{\\dot{e}}$は後退差分を用いて数値微分した。$T$は制御周期である。\n",
    "$$\n",
    "\\bm{\\dot{e}}[k] = \\frac{\\bm{e}[k] - \\bm{e}[k-1]}{T} \\tag{3}\n",
    "$$\n",
    "\n",
    "## 各軸速度制御\n",
    "「実践ロボット制御」の各軸速度制御を参考に制御則を組み立てると下記になる。\n",
    "$$\n",
    "\\bm{u} = K_p(\\bm{q}_r-\\bm{q})+K_d(\\bm{\\dot{q}}_r-\\bm{\\dot{q}}) \\tag{4}\n",
    "$$\n",
    "ここで、$\\bm{\\dot{q}}_r$は微分逆運動学にて求める点が、各軸独立制御と異なる。\n",
    "$$\n",
    " \\bm{\\dot{q}}_r = J^{-1}\\bm{\\dot{r}}_d \n",
    "$$\n",
    "#### よくわからないこと\n",
    "* 微分逆運動学を用いる場合と、各軸独立制御のように位置に関する逆運動学を解くことの差は何かがわからない。\n",
    "\n",
    "\n",
    "\n"
   ]
  },
  {
   "cell_type": "code",
   "execution_count": null,
   "metadata": {},
   "outputs": [],
   "source": [
    "import numpy as np\n",
    "import matplotlib.pyplot as plt\n",
    "import planner.trajectoryProfiler as traj\n",
    "from motioncon import motionControllerService as mcs\n",
    "\n",
    "def tick(self, model, data):\n",
    "    gc = dyn.calcGravComp(data.qpos)\n",
    "    e = self.qcmd_ - data.qpos\n",
    "    de = (e - self.epre_)/self.T\n",
    "    self.ie_ = self.ie_ + (e+de)*self.T/2\n",
    "    u = self.kp_*e + self.kd_*de + self.ki_*self.ie_ + gc\n",
    "    ## set ctrl in mujoco\n",
    "    data.ctrl = u\n",
    "    # update the values of previous cycle\n",
    "    self.epre_ = e"
   ]
  }
 ],
 "metadata": {
  "kernelspec": {
   "display_name": "mujoco_env",
   "language": "python",
   "name": "python3"
  },
  "language_info": {
   "codemirror_mode": {
    "name": "ipython",
    "version": 3
   },
   "file_extension": ".py",
   "mimetype": "text/x-python",
   "name": "python",
   "nbconvert_exporter": "python",
   "pygments_lexer": "ipython3",
   "version": "3.10.6"
  }
 },
 "nbformat": 4,
 "nbformat_minor": 2
}
